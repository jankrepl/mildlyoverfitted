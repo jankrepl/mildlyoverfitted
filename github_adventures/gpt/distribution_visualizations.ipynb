{
 "cells": [
  {
   "cell_type": "code",
   "execution_count": null,
   "id": "896ffe86",
   "metadata": {},
   "outputs": [],
   "source": [
    "import ipywidgets\n",
    "\n",
    "import matplotlib.pyplot as plt\n",
    "import torch"
   ]
  },
  {
   "cell_type": "markdown",
   "id": "09b6e1f4",
   "metadata": {},
   "source": [
    "# <center> Applying temperature + keeping only top K values</center>"
   ]
  },
  {
   "cell_type": "markdown",
   "id": "2c7442cf",
   "metadata": {},
   "source": [
    "$T=\\mbox{temperature}$ $$\\large P_i=\\frac{e^{\\frac{y_i}T}}{\\sum_{k=1}^n e^{\\frac{y_k}T}}$$"
   ]
  },
  {
   "cell_type": "code",
   "execution_count": null,
   "id": "95833de6",
   "metadata": {},
   "outputs": [],
   "source": [
    "@ipywidgets.interact\n",
    "def _(\n",
    "    n_tokens=ipywidgets.IntSlider(min=4, max=30, value=8, continuous_update=False),\n",
    "    random_state=ipywidgets.IntSlider(min=0, max=10, value=2, continuous_update=False),\n",
    "    temperature=ipywidgets.FloatSlider(min=0, max=10, value=1, continuous_update=False),\n",
    "    top_k=ipywidgets.IntSlider(min=1, max=20, value=8, continuous_update=False),\n",
    "    ):\n",
    "    # Preparations\n",
    "    top_k = min(top_k, n_tokens)\n",
    "    torch.manual_seed(random_state)\n",
    "    logits = 10 * torch.rand(n_tokens,)\n",
    "\n",
    "\n",
    "    # Generate original\n",
    "    probs_orig = torch.nn.functional.softmax(logits, dim=0).numpy()\n",
    "    \n",
    "    # Generate new\n",
    "    logits = logits / temperature\n",
    "    top_values, _ = torch.topk(logits, top_k)  # (top_k,)                                                                                                                                                                                 \n",
    "    logits[logits < top_values.min()] = -torch.inf       \n",
    "    probs_new = torch.nn.functional.softmax(logits, dim=0).numpy()\n",
    "\n",
    "    # Plotting\n",
    "    fig, (ax_orig, ax_new) = plt.subplots(1, 2, sharey=True, figsize=(10, 2), dpi=100)\n",
    "    x = range(n_tokens)\n",
    "\n",
    "    ax_orig.bar(x, probs_orig)\n",
    "    ax_orig.set_ylim((0, 1))\n",
    "    ax_orig.set_title(\"Original\")\n",
    "    \n",
    "    ax_new.bar(x, probs_new)\n",
    "    ax_new.set_title(\"Temperature + top K\")\n",
    "    \n",
    "    plt.show()"
   ]
  }
 ],
 "metadata": {
  "kernelspec": {
   "display_name": "Python 3 (ipykernel)",
   "language": "python",
   "name": "python3"
  },
  "language_info": {
   "codemirror_mode": {
    "name": "ipython",
    "version": 3
   },
   "file_extension": ".py",
   "mimetype": "text/x-python",
   "name": "python",
   "nbconvert_exporter": "python",
   "pygments_lexer": "ipython3",
   "version": "3.8.12"
  }
 },
 "nbformat": 4,
 "nbformat_minor": 5
}
